{
 "cells": [
  {
   "cell_type": "markdown",
   "metadata": {},
   "source": [
    "Components releated to Transformer Archtitecture to deep dive in:\n",
    "\n",
    "-  Dropout\n",
    "-  embedding layer: pytorch\n",
    "-  layer normalization\n",
    "-  linear Layer\n",
    "-  Positional Encoding\n",
    "-  Residual Connection\n",
    "-  Softmax\n",
    "-  Log Softmax\n",
    "- Xavier Init.\n",
    "- Tutorials of HuggingFace Tokenizers and datasets module.\n",
    "- Word Level Tokenization\n",
    "- Pytorch -> dataloader and dataset modules"
   ]
  },
  {
   "cell_type": "code",
   "execution_count": null,
   "metadata": {},
   "outputs": [],
   "source": []
  },
  {
   "cell_type": "code",
   "execution_count": null,
   "metadata": {},
   "outputs": [],
   "source": []
  },
  {
   "cell_type": "code",
   "execution_count": null,
   "metadata": {},
   "outputs": [],
   "source": []
  },
  {
   "cell_type": "code",
   "execution_count": null,
   "metadata": {},
   "outputs": [],
   "source": []
  },
  {
   "cell_type": "code",
   "execution_count": null,
   "metadata": {},
   "outputs": [],
   "source": []
  }
 ],
 "metadata": {
  "kernelspec": {
   "display_name": "languageModelling",
   "language": "python",
   "name": "python3"
  },
  "language_info": {
   "name": "python",
   "version": "3.12.9"
  }
 },
 "nbformat": 4,
 "nbformat_minor": 2
}
