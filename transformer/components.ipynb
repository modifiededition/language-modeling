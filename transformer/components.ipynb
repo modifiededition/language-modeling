{
 "cells": [
  {
   "cell_type": "markdown",
   "metadata": {},
   "source": [
    "Components releated to Transformer Archtitecture to deep dive in:\n",
    "\n",
    "-  Dropout\n",
    "-  embedding layer: pytorch\n",
    "-  layer normalization\n",
    "-  linear Layer\n",
    "-  Positional Encoding\n",
    "-  Residual Connection\n",
    "-  Softmax\n",
    "-  Log Softmax\n",
    "- Xavier Init.\n",
    "- Tutorials of HuggingFace Tokenizers and datasets module.\n",
    "- Word Level Tokenization\n",
    "- Pytorch -> dataloader and dataset modules\n",
    "- Cross Entropy\n",
    "- Adam Optimization\n",
    "- Pytorch module train and eval mode -> check what are the things that get change."
   ]
  },
  {
   "cell_type": "markdown",
   "metadata": {},
   "source": [
    "### Some things to add in the README for your future self reference:\n",
    "\n",
    "- Add your system specification which you've used to train\n",
    "- Add training time taken for each epoch ang get an average\n",
    "- Make sure to add the model size (params count), model hyper-parameters selected\n",
    "- Add your system resources capabilities/usage  while training (Memory, CPU, GPU) and also during inference.\n",
    "- Metrics calculated during eval, loss etc.\n"
   ]
  },
  {
   "cell_type": "code",
   "execution_count": null,
   "metadata": {},
   "outputs": [],
   "source": [
    "1866.63 seconds"
   ]
  },
  {
   "cell_type": "code",
   "execution_count": 1,
   "metadata": {},
   "outputs": [
    {
     "data": {
      "text/plain": [
       "31.1"
      ]
     },
     "execution_count": 1,
     "metadata": {},
     "output_type": "execute_result"
    }
   ],
   "source": [
    "1866 / 60"
   ]
  },
  {
   "cell_type": "code",
   "execution_count": null,
   "metadata": {},
   "outputs": [],
   "source": []
  },
  {
   "cell_type": "code",
   "execution_count": null,
   "metadata": {},
   "outputs": [],
   "source": []
  },
  {
   "cell_type": "code",
   "execution_count": null,
   "metadata": {},
   "outputs": [],
   "source": []
  },
  {
   "cell_type": "code",
   "execution_count": null,
   "metadata": {},
   "outputs": [],
   "source": []
  },
  {
   "cell_type": "code",
   "execution_count": null,
   "metadata": {},
   "outputs": [],
   "source": []
  },
  {
   "cell_type": "code",
   "execution_count": null,
   "metadata": {},
   "outputs": [],
   "source": []
  },
  {
   "cell_type": "code",
   "execution_count": null,
   "metadata": {},
   "outputs": [],
   "source": []
  }
 ],
 "metadata": {
  "kernelspec": {
   "display_name": "languageModelling",
   "language": "python",
   "name": "python3"
  },
  "language_info": {
   "codemirror_mode": {
    "name": "ipython",
    "version": 3
   },
   "file_extension": ".py",
   "mimetype": "text/x-python",
   "name": "python",
   "nbconvert_exporter": "python",
   "pygments_lexer": "ipython3",
   "version": "3.12.9"
  }
 },
 "nbformat": 4,
 "nbformat_minor": 2
}
