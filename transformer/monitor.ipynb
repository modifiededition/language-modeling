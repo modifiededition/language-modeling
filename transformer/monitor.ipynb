{
 "cells": [
  {
   "cell_type": "code",
   "execution_count": 1,
   "metadata": {},
   "outputs": [
    {
     "name": "stderr",
     "output_type": "stream",
     "text": [
      "/Users/ashishgoyal/miniconda3/envs/languageModelling/lib/python3.12/site-packages/tqdm/auto.py:21: TqdmWarning: IProgress not found. Please update jupyter and ipywidgets. See https://ipywidgets.readthedocs.io/en/stable/user_install.html\n",
      "  from .autonotebook import tqdm as notebook_tqdm\n"
     ]
    }
   ],
   "source": [
    "# build transformer\n",
    "from config import get_config\n",
    "from model import build_transformer\n",
    "from train import get_ds"
   ]
  },
  {
   "cell_type": "code",
   "execution_count": 2,
   "metadata": {},
   "outputs": [],
   "source": [
    "config = get_config()"
   ]
  },
  {
   "cell_type": "code",
   "execution_count": 3,
   "metadata": {},
   "outputs": [
    {
     "name": "stdout",
     "output_type": "stream",
     "text": [
      "Max length of the src sentence: 309\n",
      "Max length of the tgt sentence: 274\n"
     ]
    }
   ],
   "source": [
    "train_dataloader, val_dataloader, tokenizer_src, tokenizer_tgt = get_ds(config)"
   ]
  },
  {
   "cell_type": "code",
   "execution_count": 4,
   "metadata": {},
   "outputs": [
    {
     "data": {
      "text/plain": [
       "(3638, 3234, 15698, 22463)"
      ]
     },
     "execution_count": 4,
     "metadata": {},
     "output_type": "execute_result"
    }
   ],
   "source": [
    "len(train_dataloader), len(val_dataloader), tokenizer_src.get_vocab_size(), tokenizer_tgt.get_vocab_size()"
   ]
  },
  {
   "cell_type": "code",
   "execution_count": 5,
   "metadata": {},
   "outputs": [
    {
     "data": {
      "text/plain": [
       "(29104, 3234)"
      ]
     },
     "execution_count": 5,
     "metadata": {},
     "output_type": "execute_result"
    }
   ],
   "source": [
    "3638*8, 3234*1"
   ]
  },
  {
   "cell_type": "code",
   "execution_count": 6,
   "metadata": {},
   "outputs": [
    {
     "data": {
      "text/plain": [
       "32338"
      ]
     },
     "execution_count": 6,
     "metadata": {},
     "output_type": "execute_result"
    }
   ],
   "source": [
    "29104 + 3234"
   ]
  },
  {
   "cell_type": "code",
   "execution_count": 7,
   "metadata": {},
   "outputs": [],
   "source": [
    "import torch\n",
    "from torch import nn\n",
    "\n",
    "def format_number(num):\n",
    "    if num >= 1e9:\n",
    "        return f\"{num / 1e9:.2f}B\"\n",
    "    elif num >= 1e6:\n",
    "        return f\"{num / 1e6:.2f}M\"\n",
    "    elif num >= 1e3:\n",
    "        return f\"{num / 1e3:.2f}K\"\n",
    "    return str(num)\n",
    "\n",
    "def count_model_parameters(model):\n",
    "    total_params = sum(p.numel() for p in model.parameters())\n",
    "    trainable_params = sum(p.numel() for p in model.parameters() if p.requires_grad)\n",
    "    memory_bytes = total_params * 4  # Assuming 32-bit float (4 bytes per parameter)\n",
    "    memory_mb = memory_bytes / 1e6  # Convert to MB\n",
    "    \n",
    "    return {\n",
    "        \"total_params\": format_number(total_params),\n",
    "        \"trainable_params\": format_number(trainable_params),\n",
    "        \"non_trainable_params\": format_number(total_params - trainable_params),\n",
    "        \"estimated_memory_mb\": f\"{memory_mb:.2f} MB\"\n",
    "    }"
   ]
  },
  {
   "cell_type": "code",
   "execution_count": 8,
   "metadata": {},
   "outputs": [
    {
     "data": {
      "text/plain": [
       "{'batch_size': 8,\n",
       " 'num_epochs': 10,\n",
       " 'lr': 0.0001,\n",
       " 'seq_len': 350,\n",
       " 'd_model': 512,\n",
       " 'lang_src': 'en',\n",
       " 'lang_tgt': 'it',\n",
       " 'model_folder': 'weights',\n",
       " 'model_basename': 'tmodel_',\n",
       " 'preload': None,\n",
       " 'tokenizer_file': 'tokenizer_{0}.json',\n",
       " 'experiment_name': 'runs/tmodel',\n",
       " 'num_layers': 3,\n",
       " 'num_heads': 8,\n",
       " 'd_ff': 1024,\n",
       " 'dropout': 0.1,\n",
       " 'debug': False,\n",
       " 'run_validation_nums': 500}"
      ]
     },
     "execution_count": 8,
     "metadata": {},
     "output_type": "execute_result"
    }
   ],
   "source": [
    "config"
   ]
  },
  {
   "cell_type": "code",
   "execution_count": 9,
   "metadata": {},
   "outputs": [
    {
     "data": {
      "text/plain": [
       "{'total_params': '46.82M',\n",
       " 'trainable_params': '46.82M',\n",
       " 'non_trainable_params': '0',\n",
       " 'estimated_memory_mb': '187.27 MB'}"
      ]
     },
     "execution_count": 9,
     "metadata": {},
     "output_type": "execute_result"
    }
   ],
   "source": [
    "model = build_transformer(tokenizer_src.get_vocab_size(), tokenizer_tgt.get_vocab_size(), \n",
    "                          src_seq_len=config[\"seq_len\"], tgt_seq_len=config[\"seq_len\"], \n",
    "                          d_model=config[\"d_model\"], h=config[\"num_heads\"],\n",
    "                            N=config[\"num_layers\"], d_ff=config[\"d_ff\"], dropout=config[\"dropout\"])\n",
    "count_model_parameters(model)"
   ]
  },
  {
   "cell_type": "code",
   "execution_count": 10,
   "metadata": {},
   "outputs": [
    {
     "data": {
      "text/plain": [
       "{'total_params': '46.82M',\n",
       " 'trainable_params': '46.82M',\n",
       " 'non_trainable_params': '0',\n",
       " 'estimated_memory_mb': '187.27 MB'}"
      ]
     },
     "execution_count": 10,
     "metadata": {},
     "output_type": "execute_result"
    }
   ],
   "source": [
    "transformer = build_transformer(tokenizer_src.get_vocab_size(), tokenizer_tgt.get_vocab_size(),src_seq_len=config[\"seq_len\"],\n",
    "                                    tgt_seq_len=config[\"seq_len\"], d_model=config[\"d_model\"], h=8,\n",
    "                                    d_ff=config[\"d_ff\"], dropout=config[\"dropout\"], N=config[\"num_layers\"])\n",
    "\n",
    "count_model_parameters(transformer)\n"
   ]
  },
  {
   "cell_type": "code",
   "execution_count": 11,
   "metadata": {},
   "outputs": [
    {
     "data": {
      "text/plain": [
       "{'total_params': '62.57M',\n",
       " 'trainable_params': '62.57M',\n",
       " 'non_trainable_params': '0',\n",
       " 'estimated_memory_mb': '250.30 MB'}"
      ]
     },
     "execution_count": 11,
     "metadata": {},
     "output_type": "execute_result"
    }
   ],
   "source": [
    "transformer = build_transformer(tokenizer_src.get_vocab_size(), tokenizer_tgt.get_vocab_size(),src_seq_len=config[\"seq_len\"],\n",
    "                                    tgt_seq_len=config[\"seq_len\"], d_model=config[\"d_model\"], h=8,\n",
    "                                    d_ff=config[\"d_ff\"], dropout=config[\"dropout\"], N=6)\n",
    "\n",
    "count_model_parameters(transformer)\n"
   ]
  },
  {
   "cell_type": "code",
   "execution_count": 12,
   "metadata": {},
   "outputs": [
    {
     "data": {
      "text/plain": [
       "{'total_params': '75.17M',\n",
       " 'trainable_params': '75.17M',\n",
       " 'non_trainable_params': '0',\n",
       " 'estimated_memory_mb': '300.68 MB'}"
      ]
     },
     "execution_count": 12,
     "metadata": {},
     "output_type": "execute_result"
    }
   ],
   "source": [
    "transformer = build_transformer(tokenizer_src.get_vocab_size(), tokenizer_tgt.get_vocab_size(),src_seq_len=config[\"seq_len\"],\n",
    "                                    tgt_seq_len=config[\"seq_len\"], d_model=config[\"d_model\"], h=8,\n",
    "                                    d_ff=2048, dropout=config[\"dropout\"], N=6)\n",
    "\n",
    "count_model_parameters(transformer)\n"
   ]
  },
  {
   "cell_type": "code",
   "execution_count": null,
   "metadata": {},
   "outputs": [],
   "source": []
  }
 ],
 "metadata": {
  "kernelspec": {
   "display_name": "languageModelling",
   "language": "python",
   "name": "python3"
  },
  "language_info": {
   "codemirror_mode": {
    "name": "ipython",
    "version": 3
   },
   "file_extension": ".py",
   "mimetype": "text/x-python",
   "name": "python",
   "nbconvert_exporter": "python",
   "pygments_lexer": "ipython3",
   "version": "3.12.9"
  }
 },
 "nbformat": 4,
 "nbformat_minor": 2
}
